{
 "cells": [
  {
   "cell_type": "markdown",
   "id": "be53949a-bde6-4cd9-a6ac-23b7e9a90c12",
   "metadata": {},
   "source": [
    "### Load Data"
   ]
  },
  {
   "cell_type": "code",
   "execution_count": 114,
   "id": "174e930d-84dd-4373-b279-6be8edbff89c",
   "metadata": {
    "tags": []
   },
   "outputs": [],
   "source": [
    "words = open('data/names.txt', 'r').read().splitlines()"
   ]
  },
  {
   "cell_type": "code",
   "execution_count": 115,
   "id": "566bb54b-a5db-4ef7-b8db-2613493ffe6c",
   "metadata": {
    "tags": []
   },
   "outputs": [
    {
     "data": {
      "text/plain": [
       "(32033,\n",
       " ['emma',\n",
       "  'olivia',\n",
       "  'ava',\n",
       "  'isabella',\n",
       "  'sophia',\n",
       "  'charlotte',\n",
       "  'mia',\n",
       "  'amelia',\n",
       "  'harper',\n",
       "  'evelyn'])"
      ]
     },
     "execution_count": 115,
     "metadata": {},
     "output_type": "execute_result"
    }
   ],
   "source": [
    "len(words), words[0:10]"
   ]
  },
  {
   "cell_type": "code",
   "execution_count": 116,
   "id": "d1d3c8af-723a-4348-88b5-dce319573c07",
   "metadata": {
    "tags": []
   },
   "outputs": [],
   "source": [
    "chars = sorted(list(set(''.join(words))))\n",
    "stoi = {s:i+1 for i,s in enumerate(chars)}\n",
    "stoi['.'] = 0       ### Instead of <S> and <E>, we use one character for both '.'\n",
    "itos = {i:s for s,i in stoi.items()}"
   ]
  },
  {
   "cell_type": "code",
   "execution_count": null,
   "id": "104507bf-ae07-49cf-a185-e8770d870c28",
   "metadata": {},
   "outputs": [],
   "source": []
  },
  {
   "cell_type": "code",
   "execution_count": 117,
   "id": "597b6e3f-58b5-49b0-ac6b-7d53e7a7714c",
   "metadata": {
    "tags": []
   },
   "outputs": [],
   "source": [
    "import torch\n",
    "\n",
    "# create the training set of bigrams (x,y)\n",
    "xs, ys = [], []\n",
    "\n",
    "for w in words:\n",
    "  chs = ['.'] + list(w) + ['.']\n",
    "  for ch1, ch2 in zip(chs, chs[1:]):\n",
    "    ix1 = stoi[ch1]\n",
    "    ix2 = stoi[ch2]\n",
    "    # print(ch1, ch2)\n",
    "    xs.append(ix1)\n",
    "    ys.append(ix2)\n",
    "    \n",
    "xs = torch.tensor(xs)\n",
    "ys = torch.tensor(ys)\n",
    "num = xs.nelement()"
   ]
  },
  {
   "cell_type": "code",
   "execution_count": 118,
   "id": "5b5619da-5982-44d3-9e73-65789789dc7b",
   "metadata": {
    "tags": []
   },
   "outputs": [
    {
     "data": {
      "text/plain": [
       "(tensor([ 0,  5, 13,  ..., 25, 26, 24]),\n",
       " tensor([ 5, 13, 13,  ..., 26, 24,  0]))"
      ]
     },
     "execution_count": 118,
     "metadata": {},
     "output_type": "execute_result"
    }
   ],
   "source": [
    "xs, ys"
   ]
  },
  {
   "cell_type": "markdown",
   "id": "78976c8a-cda5-4ef5-b227-bda7539b8a70",
   "metadata": {},
   "source": [
    "### One hot encoding"
   ]
  },
  {
   "cell_type": "code",
   "execution_count": 119,
   "id": "e8c43c40-ab9b-4f4c-8492-57453e453b64",
   "metadata": {
    "tags": []
   },
   "outputs": [
    {
     "data": {
      "text/plain": [
       "(torch.Size([228146, 27]),\n",
       " tensor([[1., 0., 0.,  ..., 0., 0., 0.],\n",
       "         [0., 0., 0.,  ..., 0., 0., 0.],\n",
       "         [0., 0., 0.,  ..., 0., 0., 0.],\n",
       "         ...,\n",
       "         [0., 0., 0.,  ..., 0., 1., 0.],\n",
       "         [0., 0., 0.,  ..., 0., 0., 1.],\n",
       "         [0., 0., 0.,  ..., 1., 0., 0.]]))"
      ]
     },
     "execution_count": 119,
     "metadata": {},
     "output_type": "execute_result"
    }
   ],
   "source": [
    "import torch.nn.functional as F\n",
    "xenc = F.one_hot(xs, num_classes=27).float()\n",
    "xenc.shape, xenc"
   ]
  },
  {
   "cell_type": "code",
   "execution_count": 120,
   "id": "435e2d23-0b2f-49ea-a358-a59aeff5ccd5",
   "metadata": {
    "tags": []
   },
   "outputs": [
    {
     "data": {
      "text/plain": [
       "<matplotlib.image.AxesImage at 0x7a954cf16ce0>"
      ]
     },
     "execution_count": 120,
     "metadata": {},
     "output_type": "execute_result"
    },
    {
     "data": {
      "image/png": "[encoded data removed]",
      "text/plain": [
       "<Figure size 640x480 with 1 Axes>"
      ]
     },
     "metadata": {},
     "output_type": "display_data"
    }
   ],
   "source": [
    "import matplotlib.pyplot as plt\n",
    "x_ = F.one_hot(torch.tensor([1,13,8,15,22,16]), num_classes = 27)\n",
    "plt.imshow(x_)"
   ]
  },
  {
   "cell_type": "code",
   "execution_count": 230,
   "id": "7273cb17-f33c-44f9-92b7-a0d87e7c9004",
   "metadata": {
    "tags": []
   },
   "outputs": [
    {
     "data": {
      "text/plain": [
       "tensor(3.9775, grad_fn=<NegBackward0>)"
      ]
     },
     "execution_count": 230,
     "metadata": {},
     "output_type": "execute_result"
    }
   ],
   "source": [
    "g = torch.Generator().manual_seed(0)\n",
    "\n",
    "## W can be thought of as a firing rate of a neuron\n",
    "W = torch.randn((27, 27), generator=g, requires_grad = True)     ## draws values from a Gaussian distribution (hence most values close to 0)\n",
    "logits = xenc @ W   ## log-counts - predicted (Plucks weights (W) corresponding to characters (row) encoded in the one hot encoding)\n",
    "counts = logits.exp() # exponentiation removes negative values (we get something equaivalent to counts)\n",
    "probs = counts / counts.sum(1, keepdims=True) # probabilities for next character\n",
    "loss = -probs[xs, ys].log().mean()\n",
    "loss"
   ]
  },
  {
   "cell_type": "markdown",
   "id": "17a036a3-e317-4483-bbbe-d564ef070f96",
   "metadata": {},
   "source": [
    "### Training a Neural Network"
   ]
  },
  {
   "cell_type": "markdown",
   "id": "2f82608d-0067-4664-b64d-54543e9fbb10",
   "metadata": {},
   "source": [
    "### Forward Pass"
   ]
  },
  {
   "cell_type": "code",
   "execution_count": 231,
   "id": "8dc0680c-ce54-44e5-ad91-c6692015c3e3",
   "metadata": {
    "tags": []
   },
   "outputs": [
    {
     "name": "stdout",
     "output_type": "stream",
     "text": [
      "396.8483145236969\n"
     ]
    }
   ],
   "source": [
    "# gradient descent for x epochs\n",
    "x = 20000\n",
    "lossi = []\n",
    "stepi = []\n",
    "import time\n",
    "st_time = time.time()\n",
    "for k in range(x):\n",
    "  \n",
    "  # forward pass\n",
    "  xenc = F.one_hot(xs, num_classes=27).float() # input to the network: one-hot encoding\n",
    "  logits = xenc @ W # predict log-counts\n",
    "  counts = logits.exp() # counts, equivalent to N\n",
    "  probs = counts / counts.sum(1, keepdims=True) # probabilities for next character\n",
    "  loss = -probs[torch.arange(num), ys].log().mean() + 0.01*(W**2).mean()   # Seocnd part is the regularization (similar to smoothing). Regularization pushes the weights to be 0\n",
    "  ## If the weights grow, the loss grows (due to the regularization component). So we incentivize keeping W close to 0 (counter to the training) to ensure some balance\n",
    "  # print(loss.item())\n",
    "  lossi.append(loss.item())\n",
    "  stepi.append(k)\n",
    "  # backward pass\n",
    "  W.grad = None # set to zero the gradient\n",
    "  loss.backward()\n",
    "  \n",
    "  # update\n",
    "  W.data += -0.1 * W.grad\n",
    "\n",
    "end_time = time.time()\n",
    "run_time = end_time - st_time\n",
    "print(run_time)"
   ]
  },
  {
   "cell_type": "code",
   "execution_count": 232,
   "id": "e79b2cc2-dbbd-49b9-b5bf-e3bf88c2e13a",
   "metadata": {},
   "outputs": [
    {
     "data": {
      "text/plain": [
       "[<matplotlib.lines.Line2D at 0x7a9419b933a0>]"
      ]
     },
     "execution_count": 232,
     "metadata": {},
     "output_type": "execute_result"
    },
    {
     "data": {
      "image/png": "[encoded data removed]",
      "text/plain": [
       "<Figure size 640x480 with 1 Axes>"
      ]
     },
     "metadata": {},
     "output_type": "display_data"
    }
   ],
   "source": [
    "import matplotlib.pyplot as plt # for making figures\n",
    "plt.plot(stepi, lossi)"
   ]
  },
  {
   "cell_type": "code",
   "execution_count": null,
   "id": "0fe9b526-c50a-4a40-ad81-aee9590bd1f8",
   "metadata": {},
   "outputs": [],
   "source": []
  },
  {
   "cell_type": "code",
   "execution_count": 217,
   "id": "969e6115-e9c7-4e4b-bff6-53684a026462",
   "metadata": {
    "tags": []
   },
   "outputs": [
    {
     "data": {
      "text/plain": [
       "tensor(3.7325, grad_fn=<NegBackward0>)"
      ]
     },
     "execution_count": 217,
     "metadata": {},
     "output_type": "execute_result"
    }
   ],
   "source": [
    "g = torch.Generator().manual_seed(0)\n",
    "\n",
    "## W can be thought of as a firing rate of a neuron\n",
    "W = torch.randn((27, 27), generator=g, requires_grad = True)     ## draws values from a Gaussian distribution (hence most values close to 0)\n",
    "logits = xenc @ W   ## log-counts - predicted (Plucks weights (W) corresponding to characters (row) encoded in the one hot encoding)\n",
    "counts = logits.exp() # exponentiation removes negative values (we get something equaivalent to counts)\n",
    "probs = counts / counts.sum(1, keepdims=True) # probabilities for next character\n",
    "loss = -probs[xs, ys].log().mean()\n",
    "loss"
   ]
  },
  {
   "cell_type": "code",
   "execution_count": 218,
   "id": "3b28d612-0df2-40c4-9868-472f89ae0651",
   "metadata": {
    "tags": []
   },
   "outputs": [],
   "source": [
    "# gradient descent for x epochs\n",
    "x = 2000\n",
    "lossi_ = []\n",
    "stepi_ = []\n",
    "for k in range(x):\n",
    "  \n",
    "  # forward pass\n",
    "  ix = torch.randint(0, xs.shape[0], (32,))\n",
    "  \n",
    "  xenc = F.one_hot(xs[ix], num_classes=27).float() # input to the network: one-hot encoding\n",
    "  logits = xenc @ W # predict log-counts\n",
    "  counts = logits.exp() # counts, equivalent to N\n",
    "  probs = counts / counts.sum(1, keepdims=True) # probabilities for next character\n",
    "  loss = -probs[torch.arange(ix.shape[0]), ys[ix]].log().mean() + 0.01*(W**2).mean()   # Seocnd part is the regularization (similar to smoothing). Regularization pushes the weights to be 0\n",
    "  ## If the weights grow, the loss grows (due to the regularization component). So we incentivize keeping W close to 0 (counter to the training) to ensure some balance\n",
    "  # print(loss.item())\n",
    "  lossi_.append(loss.item())\n",
    "  stepi_.append(k)\n",
    "  # backward pass\n",
    "  W.grad = None # set to zero the gradient\n",
    "  loss.backward()\n",
    "  \n",
    "  # update\n",
    "  W.data += -0.1 * W.grad"
   ]
  },
  {
   "cell_type": "code",
   "execution_count": 219,
   "id": "95afa136-9dfa-428f-a4ed-ea580ef05901",
   "metadata": {
    "tags": []
   },
   "outputs": [
    {
     "data": {
      "text/plain": [
       "[<matplotlib.lines.Line2D at 0x7a9424789090>]"
      ]
     },
     "execution_count": 219,
     "metadata": {},
     "output_type": "execute_result"
    },
    {
     "data": {
      "image/png": "[encoded data removed]",
      "text/plain": [
       "<Figure size 640x480 with 1 Axes>"
      ]
     },
     "metadata": {},
     "output_type": "display_data"
    }
   ],
   "source": [
    "import matplotlib.pyplot as plt # for making figures\n",
    "plt.plot(stepi_, lossi_)"
   ]
  },
  {
   "cell_type": "code",
   "execution_count": 225,
   "id": "3c15ffd0-08de-452d-b09b-0c81cf84aaa4",
   "metadata": {
    "tags": []
   },
   "outputs": [
    {
     "data": {
      "text/plain": [
       "([3.7783234119415283,\n",
       "  3.7772722244262695,\n",
       "  3.776223659515381,\n",
       "  3.7751762866973877,\n",
       "  3.7741312980651855,\n",
       "  3.773087739944458,\n",
       "  3.7720463275909424,\n",
       "  3.7710063457489014,\n",
       "  3.769968271255493,\n",
       "  3.7689318656921387],\n",
       " [2.9574849605560303,\n",
       "  2.957322359085083,\n",
       "  2.9571595191955566,\n",
       "  2.9569976329803467,\n",
       "  2.9568352699279785,\n",
       "  2.9566731452941895,\n",
       "  2.9565110206604004,\n",
       "  2.9563488960266113,\n",
       "  2.9561870098114014,\n",
       "  2.9560256004333496])"
      ]
     },
     "execution_count": 225,
     "metadata": {},
     "output_type": "execute_result"
    }
   ],
   "source": [
    "lossi[0:10], lossi[-10:]"
   ]
  },
  {
   "cell_type": "code",
   "execution_count": 226,
   "id": "53e08b7a-063a-46ca-9783-0592f3d90179",
   "metadata": {
    "tags": []
   },
   "outputs": [
    {
     "data": {
      "text/plain": [
       "([3.8757822513580322,\n",
       "  3.286482095718384,\n",
       "  3.9277431964874268,\n",
       "  3.9295129776000977,\n",
       "  3.8600823879241943,\n",
       "  3.5996623039245605,\n",
       "  3.7460572719573975,\n",
       "  3.4398295879364014,\n",
       "  3.3112502098083496,\n",
       "  4.060003280639648],\n",
       " [2.8187968730926514,\n",
       "  3.1728785037994385,\n",
       "  2.6624584197998047,\n",
       "  2.929119825363159,\n",
       "  2.8749616146087646,\n",
       "  2.786341428756714,\n",
       "  2.9854824542999268,\n",
       "  2.748918294906616,\n",
       "  3.016230344772339,\n",
       "  2.9351322650909424])"
      ]
     },
     "execution_count": 226,
     "metadata": {},
     "output_type": "execute_result"
    }
   ],
   "source": [
    "lossi_[0:10], lossi_[-10:]"
   ]
  },
  {
   "cell_type": "code",
   "execution_count": null,
   "id": "3e2ef162-2191-4b27-b89e-8a16100f3c86",
   "metadata": {
    "tags": []
   },
   "outputs": [],
   "source": []
  },
  {
   "cell_type": "markdown",
   "id": "84fd7cdb-7a6c-447a-a160-2b3c4a315338",
   "metadata": {},
   "source": [
    "### Text Generation"
   ]
  },
  {
   "cell_type": "code",
   "execution_count": 195,
   "id": "cdbc39a8-869a-4090-b2fd-da3a894330dc",
   "metadata": {
    "tags": []
   },
   "outputs": [
    {
     "name": "stdout",
     "output_type": "stream",
     "text": [
      "junide.\n",
      "janasah.\n",
      "p.\n",
      "cfay.\n",
      "a.\n"
     ]
    }
   ],
   "source": [
    "# finally, sample from the 'neural net' model\n",
    "g = torch.Generator().manual_seed(2147483647)\n",
    "\n",
    "for i in range(5):\n",
    "  \n",
    "  out = []\n",
    "  ix = 0\n",
    "  while True:\n",
    "    \n",
    "    # ----------\n",
    "    # BEFORE:\n",
    "    #p = P[ix]\n",
    "    # ----------\n",
    "    # NOW:\n",
    "    xenc = F.one_hot(torch.tensor([ix]), num_classes=27).float()\n",
    "    logits = xenc @ W # predict log-counts\n",
    "    counts = logits.exp() # counts, equivalent to N\n",
    "    p = counts / counts.sum(1, keepdims=True) # probabilities for next character\n",
    "    # ----------\n",
    "    \n",
    "    ix = torch.multinomial(p, num_samples=1, replacement=True, generator=g).item()\n",
    "    out.append(itos[ix])\n",
    "    if ix == 0:\n",
    "      break\n",
    "  print(''.join(out))"
   ]
  },
  {
   "cell_type": "code",
   "execution_count": null,
   "id": "94cb1e1b-8792-4b3e-9564-29f298ba05a2",
   "metadata": {},
   "outputs": [],
   "source": []
  }
 ],
 "metadata": {
  "kernelspec": {
   "display_name": "py3_10",
   "language": "python",
   "name": "py3_10"
  },
  "language_info": {
   "codemirror_mode": {
    "name": "ipython",
    "version": 3
   },
   "file_extension": ".py",
   "mimetype": "text/x-python",
   "name": "python",
   "nbconvert_exporter": "python",
   "pygments_lexer": "ipython3",
   "version": "3.10.12"
  }
 },
 "nbformat": 4,
 "nbformat_minor": 5
}
