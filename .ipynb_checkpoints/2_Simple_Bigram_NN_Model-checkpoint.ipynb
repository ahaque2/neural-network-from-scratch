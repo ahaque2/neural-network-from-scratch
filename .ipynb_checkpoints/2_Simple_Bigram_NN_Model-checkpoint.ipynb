{
 "cells": [
  {
   "cell_type": "markdown",
   "id": "be53949a-bde6-4cd9-a6ac-23b7e9a90c12",
   "metadata": {},
   "source": [
    "# Simple One Layer (pseudo) Neural Network"
   ]
  },
  {
   "cell_type": "markdown",
   "id": "58e13cc1-7098-426f-a5f4-02955ff0e9b3",
   "metadata": {},
   "source": [
    "### We will learn\n",
    "- Implementing a simple one layer NN\n",
    "- One hot vector encoding\n",
    "- Forward pass \n",
    "    - Training on full dataset vs batch-wise training\n",
    "- Computing training loss"
   ]
  },
  {
   "cell_type": "markdown",
   "id": "4e5ac54e-a042-431c-922b-64828cf91590",
   "metadata": {},
   "source": [
    "### Load Data"
   ]
  },
  {
   "cell_type": "code",
   "execution_count": 35,
   "id": "174e930d-84dd-4373-b279-6be8edbff89c",
   "metadata": {
    "tags": []
   },
   "outputs": [],
   "source": [
    "words = open('data/names.txt', 'r').read().splitlines()"
   ]
  },
  {
   "cell_type": "code",
   "execution_count": 36,
   "id": "566bb54b-a5db-4ef7-b8db-2613493ffe6c",
   "metadata": {
    "tags": []
   },
   "outputs": [
    {
     "data": {
      "text/plain": [
       "(32033,\n",
       " ['emma',\n",
       "  'olivia',\n",
       "  'ava',\n",
       "  'isabella',\n",
       "  'sophia',\n",
       "  'charlotte',\n",
       "  'mia',\n",
       "  'amelia',\n",
       "  'harper',\n",
       "  'evelyn'])"
      ]
     },
     "execution_count": 36,
     "metadata": {},
     "output_type": "execute_result"
    }
   ],
   "source": [
    "len(words), words[0:10]"
   ]
  },
  {
   "cell_type": "code",
   "execution_count": 37,
   "id": "d1d3c8af-723a-4348-88b5-dce319573c07",
   "metadata": {
    "tags": []
   },
   "outputs": [],
   "source": [
    "chars = sorted(list(set(''.join(words))))\n",
    "stoi = {s:i+1 for i,s in enumerate(chars)}\n",
    "stoi['.'] = 0       ### Instead of <S> and <E>, we use one character for both '.'\n",
    "itos = {i:s for s,i in stoi.items()}"
   ]
  },
  {
   "cell_type": "code",
   "execution_count": null,
   "id": "104507bf-ae07-49cf-a185-e8770d870c28",
   "metadata": {},
   "outputs": [],
   "source": []
  },
  {
   "cell_type": "code",
   "execution_count": 38,
   "id": "597b6e3f-58b5-49b0-ac6b-7d53e7a7714c",
   "metadata": {
    "tags": []
   },
   "outputs": [],
   "source": [
    "import torch\n",
    "\n",
    "# create the training set of bigrams (x,y)\n",
    "xs, ys = [], []\n",
    "\n",
    "for w in words:\n",
    "  chs = ['.'] + list(w) + ['.']\n",
    "  for ch1, ch2 in zip(chs, chs[1:]):\n",
    "    ix1 = stoi[ch1]\n",
    "    ix2 = stoi[ch2]\n",
    "    # print(ch1, ch2)\n",
    "    xs.append(ix1)\n",
    "    ys.append(ix2)\n",
    "    \n",
    "xs = torch.tensor(xs)\n",
    "ys = torch.tensor(ys)\n",
    "num = xs.nelement()"
   ]
  },
  {
   "cell_type": "code",
   "execution_count": 39,
   "id": "5b5619da-5982-44d3-9e73-65789789dc7b",
   "metadata": {
    "tags": []
   },
   "outputs": [
    {
     "data": {
      "text/plain": [
       "(tensor([ 0,  5, 13,  ..., 25, 26, 24]),\n",
       " tensor([ 5, 13, 13,  ..., 26, 24,  0]))"
      ]
     },
     "execution_count": 39,
     "metadata": {},
     "output_type": "execute_result"
    }
   ],
   "source": [
    "xs, ys"
   ]
  },
  {
   "cell_type": "markdown",
   "id": "78976c8a-cda5-4ef5-b227-bda7539b8a70",
   "metadata": {},
   "source": [
    "### One hot encoding"
   ]
  },
  {
   "cell_type": "code",
   "execution_count": 40,
   "id": "e8c43c40-ab9b-4f4c-8492-57453e453b64",
   "metadata": {
    "tags": []
   },
   "outputs": [
    {
     "data": {
      "text/plain": [
       "(torch.Size([228146, 27]),\n",
       " tensor([[1., 0., 0.,  ..., 0., 0., 0.],\n",
       "         [0., 0., 0.,  ..., 0., 0., 0.],\n",
       "         [0., 0., 0.,  ..., 0., 0., 0.],\n",
       "         ...,\n",
       "         [0., 0., 0.,  ..., 0., 1., 0.],\n",
       "         [0., 0., 0.,  ..., 0., 0., 1.],\n",
       "         [0., 0., 0.,  ..., 1., 0., 0.]]))"
      ]
     },
     "execution_count": 40,
     "metadata": {},
     "output_type": "execute_result"
    }
   ],
   "source": [
    "import torch.nn.functional as F\n",
    "xenc = F.one_hot(xs, num_classes=27).float()\n",
    "xenc.shape, xenc"
   ]
  },
  {
   "cell_type": "code",
   "execution_count": 41,
   "id": "435e2d23-0b2f-49ea-a358-a59aeff5ccd5",
   "metadata": {
    "tags": []
   },
   "outputs": [
    {
     "data": {
      "text/plain": [
       "<matplotlib.image.AxesImage at 0x78c56a058fa0>"
      ]
     },
     "execution_count": 41,
     "metadata": {},
     "output_type": "execute_result"
    },
    {
     "data": {
      "image/png": "[encoded data removed]",
      "text/plain": [
       "<Figure size 640x480 with 1 Axes>"
      ]
     },
     "metadata": {},
     "output_type": "display_data"
    }
   ],
   "source": [
    "import matplotlib.pyplot as plt\n",
    "x_ = F.one_hot(torch.tensor([1,13,8,15,22,16]), num_classes = 27)\n",
    "plt.imshow(x_)"
   ]
  },
  {
   "cell_type": "code",
   "execution_count": 42,
   "id": "7273cb17-f33c-44f9-92b7-a0d87e7c9004",
   "metadata": {
    "tags": []
   },
   "outputs": [
    {
     "data": {
      "text/plain": [
       "tensor(3.7325, grad_fn=<NegBackward0>)"
      ]
     },
     "execution_count": 42,
     "metadata": {},
     "output_type": "execute_result"
    }
   ],
   "source": [
    "g = torch.Generator().manual_seed(42)\n",
    "\n",
    "## W can be thought of as a firing rate of a neuron\n",
    "W = torch.randn((27, 27), generator=g, requires_grad = True)     ## draws values from a Gaussian distribution (hence most values close to 0)\n",
    "logits = xenc @ W   ## log-counts - predicted (Plucks weights (W) corresponding to characters (row) encoded in the one hot encoding)\n",
    "counts = logits.exp() # exponentiation removes negative values (we get something equaivalent to counts)\n",
    "probs = counts / counts.sum(1, keepdims=True) # probabilities for next character\n",
    "loss = -probs[xs, ys].log().mean()\n",
    "loss"
   ]
  },
  {
   "cell_type": "markdown",
   "id": "17a036a3-e317-4483-bbbe-d564ef070f96",
   "metadata": {},
   "source": [
    "### Training a Neural Network (on the entire dataset)"
   ]
  },
  {
   "cell_type": "markdown",
   "id": "2f82608d-0067-4664-b64d-54543e9fbb10",
   "metadata": {},
   "source": [
    "### Forward Pass"
   ]
  },
  {
   "cell_type": "code",
   "execution_count": 50,
   "id": "8dc0680c-ce54-44e5-ad91-c6692015c3e3",
   "metadata": {
    "tags": []
   },
   "outputs": [
    {
     "name": "stdout",
     "output_type": "stream",
     "text": [
      "18.413691997528076\n"
     ]
    }
   ],
   "source": [
    "# gradient descent for x epochs\n",
    "x = 1000\n",
    "lossi = []\n",
    "stepi = []\n",
    "import time\n",
    "st_time = time.time()\n",
    "for k in range(x):\n",
    "  \n",
    "  # forward pass\n",
    "  xenc = F.one_hot(xs, num_classes=27).float() # input to the network: one-hot encoding\n",
    "  logits = xenc @ W # predict log-counts\n",
    "  counts = logits.exp() # counts, equivalent to N\n",
    "  probs = counts / counts.sum(1, keepdims=True) # probabilities for next character\n",
    "  loss = -probs[torch.arange(num), ys].log().mean() + 0.01*(W**2).mean()   # Seocnd part is the regularization (similar to smoothing). Regularization pushes the weights to be 0\n",
    "  ## If the weights grow, the loss grows (due to the regularization component). So we incentivize keeping W close to 0 (counter to the training) to ensure some balance\n",
    "  # print(loss.item())\n",
    "  lossi.append(loss.item())\n",
    "  stepi.append(k)\n",
    "  # backward pass\n",
    "  W.grad = None # set to zero the gradient\n",
    "  loss.backward()\n",
    "  \n",
    "  # update\n",
    "  W.data += -0.1 * W.grad\n",
    "\n",
    "end_time = time.time()\n",
    "run_time = end_time - st_time\n",
    "print(run_time)"
   ]
  },
  {
   "cell_type": "code",
   "execution_count": 51,
   "id": "e79b2cc2-dbbd-49b9-b5bf-e3bf88c2e13a",
   "metadata": {},
   "outputs": [
    {
     "data": {
      "text/plain": [
       "[<matplotlib.lines.Line2D at 0x78c57828cb80>]"
      ]
     },
     "execution_count": 51,
     "metadata": {},
     "output_type": "execute_result"
    },
    {
     "data": {
      "image/png": "[encoded data removed]",
      "text/plain": [
       "<Figure size 640x480 with 1 Axes>"
      ]
     },
     "metadata": {},
     "output_type": "display_data"
    }
   ],
   "source": [
    "import matplotlib.pyplot as plt # for making figures\n",
    "plt.plot(stepi, lossi)"
   ]
  },
  {
   "cell_type": "code",
   "execution_count": null,
   "id": "0fe9b526-c50a-4a40-ad81-aee9590bd1f8",
   "metadata": {},
   "outputs": [],
   "source": []
  },
  {
   "cell_type": "code",
   "execution_count": 52,
   "id": "969e6115-e9c7-4e4b-bff6-53684a026462",
   "metadata": {
    "tags": []
   },
   "outputs": [
    {
     "data": {
      "text/plain": [
       "tensor(3.7325, grad_fn=<NegBackward0>)"
      ]
     },
     "execution_count": 52,
     "metadata": {},
     "output_type": "execute_result"
    }
   ],
   "source": [
    "g = torch.Generator().manual_seed(42)\n",
    "\n",
    "## W can be thought of as a firing rate of a neuron\n",
    "W = torch.randn((27, 27), generator=g, requires_grad = True)     ## draws values from a Gaussian distribution (hence most values close to 0)\n",
    "logits = xenc @ W   ## log-counts - predicted (Plucks weights (W) corresponding to characters (row) encoded in the one hot encoding)\n",
    "counts = logits.exp() # exponentiation removes negative values (we get something equaivalent to counts)\n",
    "probs = counts / counts.sum(1, keepdims=True) # probabilities for next character\n",
    "loss = -probs[xs, ys].log().mean()\n",
    "loss"
   ]
  },
  {
   "cell_type": "markdown",
   "id": "52c9aa1d-eafb-4b52-8a73-532a65abfa73",
   "metadata": {},
   "source": [
    "### Training using mini batches"
   ]
  },
  {
   "cell_type": "code",
   "execution_count": 53,
   "id": "3b28d612-0df2-40c4-9868-472f89ae0651",
   "metadata": {
    "tags": []
   },
   "outputs": [
    {
     "name": "stdout",
     "output_type": "stream",
     "text": [
      "37.74729585647583\n"
     ]
    }
   ],
   "source": [
    "# gradient descent for x epochs\n",
    "x = 100000\n",
    "lossi_ = []\n",
    "stepi_ = []\n",
    "\n",
    "st_time = time.time()\n",
    "for k in range(x):\n",
    "  \n",
    "    # forward pass\n",
    "    ix = torch.randint(0, xs.shape[0], (32,))   ### Batch size is 32 (randomly sample 32 training samples)\n",
    "\n",
    "    xenc = F.one_hot(xs[ix], num_classes=27).float() # input to the network: one-hot encoding\n",
    "    logits = xenc @ W # predict log-counts\n",
    "    counts = logits.exp() # counts, equivalent to N\n",
    "    probs = counts / counts.sum(1, keepdims=True) # probabilities for next character\n",
    "    loss = -probs[torch.arange(ix.shape[0]), ys[ix]].log().mean() + 0.01*(W**2).mean()   # Seocnd part is the regularization (similar to smoothing). Regularization pushes the weights to be 0\n",
    "    ## If the weights grow, the loss grows (due to the regularization component). So we incentivize keeping W close to 0 (counter to the training) to ensure some balance\n",
    "    # print(loss.item())\n",
    "    lossi_.append(loss.item())\n",
    "    stepi_.append(k)\n",
    "    # backward pass\n",
    "    W.grad = None # set to zero the gradient\n",
    "    loss.backward()\n",
    "\n",
    "    if k%1000 == 0:\n",
    "        print(k, end = \"\\r\")\n",
    "\n",
    "    # update\n",
    "    W.data += -0.1 * W.grad\n",
    "    \n",
    "end_time = time.time()\n",
    "run_time = end_time - st_time\n",
    "print(run_time)"
   ]
  },
  {
   "cell_type": "code",
   "execution_count": 54,
   "id": "95afa136-9dfa-428f-a4ed-ea580ef05901",
   "metadata": {
    "tags": []
   },
   "outputs": [
    {
     "data": {
      "text/plain": [
       "[<matplotlib.lines.Line2D at 0x78c5785e9600>]"
      ]
     },
     "execution_count": 54,
     "metadata": {},
     "output_type": "execute_result"
    },
    {
     "data": {
      "image/png": "[encoded data removed]",
      "text/plain": [
       "<Figure size 640x480 with 1 Axes>"
      ]
     },
     "metadata": {},
     "output_type": "display_data"
    }
   ],
   "source": [
    "import matplotlib.pyplot as plt # for making figures\n",
    "plt.plot(stepi_, lossi_)"
   ]
  },
  {
   "cell_type": "code",
   "execution_count": 55,
   "id": "3c15ffd0-08de-452d-b09b-0c81cf84aaa4",
   "metadata": {
    "tags": []
   },
   "outputs": [
    {
     "data": {
      "text/plain": [
       "[2.553323745727539,\n",
       " 2.480807304382324,\n",
       " 2.4294042587280273,\n",
       " 2.5008978843688965,\n",
       " 2.6902427673339844,\n",
       " 2.2684128284454346,\n",
       " 2.6166958808898926,\n",
       " 2.5175414085388184,\n",
       " 2.39827823638916,\n",
       " 2.7578344345092773]"
      ]
     },
     "execution_count": 55,
     "metadata": {},
     "output_type": "execute_result"
    }
   ],
   "source": [
    "lossi_[-10:]"
   ]
  },
  {
   "cell_type": "markdown",
   "id": "84fd7cdb-7a6c-447a-a160-2b3c4a315338",
   "metadata": {},
   "source": [
    "### Text Generation"
   ]
  },
  {
   "cell_type": "code",
   "execution_count": 56,
   "id": "cdbc39a8-869a-4090-b2fd-da3a894330dc",
   "metadata": {
    "tags": []
   },
   "outputs": [
    {
     "name": "stdout",
     "output_type": "stream",
     "text": [
      "junide.\n",
      "janasah.\n",
      "p.\n",
      "cfay.\n",
      "a.\n"
     ]
    }
   ],
   "source": [
    "# finally, sample from the 'neural net' model\n",
    "g = torch.Generator().manual_seed(42)\n",
    "\n",
    "for i in range(5):\n",
    "  \n",
    "  out = []\n",
    "  ix = 0\n",
    "  while True:\n",
    "    \n",
    "    xenc = F.one_hot(torch.tensor([ix]), num_classes=27).float()\n",
    "    logits = xenc @ W # predict log-counts\n",
    "    counts = logits.exp() # counts, equivalent to N\n",
    "    p = counts / counts.sum(1, keepdims=True) # probabilities for next character\n",
    "    # ----------\n",
    "    \n",
    "    ix = torch.multinomial(p, num_samples=1, replacement=True, generator=g).item()\n",
    "    out.append(itos[ix])\n",
    "    if ix == 0:\n",
    "      break\n",
    "  print(''.join(out))"
   ]
  },
  {
   "cell_type": "markdown",
   "id": "7a30b7bc-4e7b-4659-9789-64af1e96ef51",
   "metadata": {
    "tags": []
   },
   "source": [
    "### Performance on training set"
   ]
  },
  {
   "cell_type": "code",
   "execution_count": 57,
   "id": "8d11997d-0f43-412b-8e3d-395803a9a26a",
   "metadata": {
    "tags": []
   },
   "outputs": [],
   "source": [
    "# log_likelihood = 0.0\n",
    "# n = 0\n",
    "\n",
    "# for w in words:\n",
    "# # for w in [\"amanulx\"]:\n",
    "#   chs = ['.'] + list(w) + ['.']\n",
    "#   for ch1, ch2 in zip(chs, chs[1:]):\n",
    "#     ix1 = stoi[ch1]\n",
    "#     ix2 = stoi[ch2]\n",
    "    \n",
    "#     # prob = P[ix1, ix2]         ### Probabity of next token given the first\n",
    "    \n",
    "#     xenc = F.one_hot(torch.tensor([ix1]), num_classes=27).float()\n",
    "#     logits = xenc @ W # predict log-counts\n",
    "#     counts = logits.exp() # counts, equivalent to N\n",
    "#     prob = counts / counts.sum(1, keepdims=True) # probabilities for next character\n",
    "    \n",
    "#     # print(prob[0][ix2])\n",
    "#     # sys.exit()\n",
    "#     # ----------\n",
    "    \n",
    "#     logprob = torch.log(prob[0][ix2])  ## Converting to log (otherwise the product will be very small since all numbers are <1). And backpropagating through log of a product is easier (just the sum of individual logs) \n",
    "#     log_likelihood += logprob  ## Product of all probabilities (we take the sum because we are using logs). \n",
    "#     n += 1\n",
    "#     # print(f'{ch1}{ch2}: {prob:.4f}: {logprob:.4f}')\n",
    "\n",
    "# print(f'{log_likelihood=}')\n",
    "# nll = -log_likelihood      # Invert the loss to ensure 'lower is better' (since log of < 1 os already negative)\n",
    "# print(f'{nll=}')\n",
    "# print(f'{nll/n}')      ## Normalized log likelihood (loss)\n",
    "# print(n)"
   ]
  },
  {
   "cell_type": "code",
   "execution_count": 58,
   "id": "c696780a-2143-458e-a428-44f0aabe8354",
   "metadata": {
    "tags": []
   },
   "outputs": [
    {
     "name": "stdout",
     "output_type": "stream",
     "text": [
      "log_likelihood=tensor(-562683.5625, grad_fn=<AddBackward0>)\n",
      "nll=tensor(562683.5625, grad_fn=<NegBackward0>)\n",
      "2.4663310050964355\n",
      "228146\n"
     ]
    }
   ],
   "source": [
    "log_likelihood = 0.0\n",
    "n = 0\n",
    "for x, y in zip(xs, ys):\n",
    "\n",
    "    xenc = F.one_hot(torch.tensor([x]), num_classes=27).float()\n",
    "    logits = xenc @ W # predict log-counts\n",
    "    counts = logits.exp() # counts, equivalent to N\n",
    "    prob = counts / counts.sum(1, keepdims=True) # probabilities for next character\n",
    "    \n",
    "    logprob = torch.log(prob[0][y])  ## Converting to log (otherwise the product will be very small since all numbers are <1). And backpropagating through log of a product is easier (just the sum of individual logs) \n",
    "    log_likelihood += logprob  ## Product of all probabilities (we take the sum because we are using logs). \n",
    "    n += 1\n",
    "    \n",
    "print(f'{log_likelihood=}')\n",
    "nll = -log_likelihood      # Invert the loss to ensure 'lower is better' (since log of < 1 os already negative)\n",
    "print(f'{nll=}')\n",
    "print(f'{nll/n}')      ## Normalized log likelihood (loss)\n",
    "print(n)"
   ]
  },
  {
   "cell_type": "code",
   "execution_count": null,
   "id": "b3908ca5-fdd9-40b2-ad9a-c17a420eac61",
   "metadata": {
    "tags": []
   },
   "outputs": [],
   "source": []
  },
  {
   "cell_type": "code",
   "execution_count": null,
   "id": "ee819763-fb14-4a78-8338-3b93e90b442a",
   "metadata": {},
   "outputs": [],
   "source": []
  }
 ],
 "metadata": {
  "kernelspec": {
   "display_name": "nn_venv",
   "language": "python",
   "name": "nn_venv"
  },
  "language_info": {
   "codemirror_mode": {
    "name": "ipython",
    "version": 3
   },
   "file_extension": ".py",
   "mimetype": "text/x-python",
   "name": "python",
   "nbconvert_exporter": "python",
   "pygments_lexer": "ipython3",
   "version": "3.10.12"
  }
 },
 "nbformat": 4,
 "nbformat_minor": 5
}
