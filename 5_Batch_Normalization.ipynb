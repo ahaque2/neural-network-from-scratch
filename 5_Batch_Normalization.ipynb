{
 "cells": [
  {
   "cell_type": "markdown",
   "metadata": {},
   "source": [
    "### Batch Normalization\n",
    "\n",
    "- Paper: https://arxiv.org/abs/1502.03167\n",
    "    - Normalize the preactivations before feeding into the activation layer (to be roughly Gaussian, i.e., similar to input)\n",
    "    - Achived by adding an additional batch normalization layer (with Gain and Bias)\n",
    "    - Preactivations go through this layer and are normalized using the mean and std of the preactivation layer (batch wise)\n",
    "    - Adding a batch normalization layer (instead of just normalization) ensures that the model can learn how much gain and bias (i.e., how to amplify or reduce) to provide based on the learning on training examples\n",
    "\n",
    "- A side effect of using batch normalization is that logits for each example now dont only depend on that example but also on other examples in a batch\n",
    "    - This has a regularizing effect (since it adds some noise/entropy to each prediction) and regularizes it using mean from a sampled batch\n",
    "\n",
    "\n",
    "- Batch normalization impacts inferencing: \n",
    "    - Now at inference time we need to normalize the logits similar to how we do at traiing time \n",
    "    - This ensures correct scalling of preactivations (and consequently activations)\n",
    "\n",
    "- However the inputs at inference time are not provided in batches (but per example). \n",
    "    - So, how do we get a mean and std. to perform the normalization?\n",
    "    - Solution: We compute a (bn) mean and standard deviation during training and use that at inference"
   ]
  },
  {
   "cell_type": "code",
   "execution_count": 51,
   "metadata": {},
   "outputs": [],
   "source": [
    "import torch\n",
    "import torch.nn.functional as F\n",
    "import matplotlib.pyplot as plt # for making figures\n",
    "%matplotlib inline"
   ]
  },
  {
   "cell_type": "code",
   "execution_count": 52,
   "metadata": {
    "tags": []
   },
   "outputs": [
    {
     "data": {
      "text/plain": [
       "['emma', 'olivia', 'ava', 'isabella', 'sophia', 'charlotte', 'mia', 'amelia']"
      ]
     },
     "execution_count": 52,
     "metadata": {},
     "output_type": "execute_result"
    }
   ],
   "source": [
    "# read in all the words\n",
    "words = open('data/names.txt', 'r').read().splitlines()\n",
    "words[:8]"
   ]
  },
  {
   "cell_type": "code",
   "execution_count": 53,
   "metadata": {
    "tags": []
   },
   "outputs": [
    {
     "data": {
      "text/plain": [
       "32033"
      ]
     },
     "execution_count": 53,
     "metadata": {},
     "output_type": "execute_result"
    }
   ],
   "source": [
    "len(words)"
   ]
  },
  {
   "cell_type": "code",
   "execution_count": 54,
   "metadata": {
    "tags": []
   },
   "outputs": [
    {
     "name": "stdout",
     "output_type": "stream",
     "text": [
      "{1: 'a', 2: 'b', 3: 'c', 4: 'd', 5: 'e', 6: 'f', 7: 'g', 8: 'h', 9: 'i', 10: 'j', 11: 'k', 12: 'l', 13: 'm', 14: 'n', 15: 'o', 16: 'p', 17: 'q', 18: 'r', 19: 's', 20: 't', 21: 'u', 22: 'v', 23: 'w', 24: 'x', 25: 'y', 26: 'z', 0: '.'}\n"
     ]
    }
   ],
   "source": [
    "# build the vocabulary of characters and mappings to/from integers\n",
    "chars = sorted(list(set(''.join(words))))\n",
    "stoi = {s:i+1 for i,s in enumerate(chars)}\n",
    "stoi['.'] = 0\n",
    "itos = {i:s for s,i in stoi.items()}\n",
    "print(itos)"
   ]
  },
  {
   "cell_type": "code",
   "execution_count": 55,
   "metadata": {
    "tags": []
   },
   "outputs": [
    {
     "name": "stdout",
     "output_type": "stream",
     "text": [
      "torch.Size([182625, 3]) torch.Size([182625])\n",
      "torch.Size([22655, 3]) torch.Size([22655])\n",
      "torch.Size([22866, 3]) torch.Size([22866])\n"
     ]
    }
   ],
   "source": [
    "# build the dataset\n",
    "block_size = 3 # context length: how many characters do we take to predict the next one?\n",
    "\n",
    "def build_dataset(words):  \n",
    "  X, Y = [], []\n",
    "  for w in words:\n",
    "\n",
    "    #print(w)\n",
    "    context = [0] * block_size\n",
    "    for ch in w + '.':\n",
    "      ix = stoi[ch]\n",
    "      X.append(context)\n",
    "      Y.append(ix)\n",
    "      # print(''.join(itos[i] for i in context), '--->', itos[ix])\n",
    "      context = context[1:] + [ix] # crop and append\n",
    "\n",
    "  X = torch.tensor(X)\n",
    "  Y = torch.tensor(Y)\n",
    "  print(X.shape, Y.shape)\n",
    "  return X, Y\n",
    "\n",
    "import random\n",
    "random.seed(42)\n",
    "random.shuffle(words)\n",
    "n1 = int(0.8*len(words))\n",
    "n2 = int(0.9*len(words))\n",
    "# n1 = 20\n",
    "# n2 = 30\n",
    "\n",
    "Xtr, Ytr = build_dataset(words[:n1])\n",
    "Xdev, Ydev = build_dataset(words[n1:n2])\n",
    "Xte, Yte = build_dataset(words[n2:])"
   ]
  },
  {
   "cell_type": "code",
   "execution_count": null,
   "metadata": {
    "tags": []
   },
   "outputs": [],
   "source": [
    "# Xtr[0:10], Ytr[0:10]"
   ]
  },
  {
   "cell_type": "markdown",
   "metadata": {},
   "source": []
  },
  {
   "cell_type": "code",
   "execution_count": 25,
   "metadata": {
    "tags": []
   },
   "outputs": [
    {
     "name": "stdout",
     "output_type": "stream",
     "text": [
      "12297\n"
     ]
    }
   ],
   "source": [
    "n_embd = 10\n",
    "n_hidden = 200\n",
    "vs = 27    # vocab size\n",
    "\n",
    "g = torch.Generator().manual_seed(42) # for reproducibility\n",
    "C = torch.randn((vs, n_embd), generator=g)\n",
    "W1 = torch.randn((n_embd * block_size, n_hidden), generator=g) * 1 #* (5/3)/(n_embd * block_size) #**0.5 # * 0.2  or * (5/3)/(n_embd * block_size)**0.5\n",
    "b1 = torch.randn(n_hidden, generator=g)    * 1\n",
    "W2 = torch.randn((n_hidden, vs), generator=g) * 0.01\n",
    "b2 = torch.randn(vs, generator=g) * 0\n",
    "\n",
    "bn_gain = torch.ones((1, n_hidden))\n",
    "bn_bias = torch.zeros((1, n_hidden))\n",
    "bn_mean_running = torch.ones((1, n_hidden))\n",
    "bn_std_running = torch.zeros((1, n_hidden))\n",
    "\n",
    "parameters = [C, W1, W2, b1, b2, bn_gain, bn_bias]\n",
    "print(sum(p.nelement() for p in parameters)) # number of parameters in total\n",
    "\n",
    "for p in parameters:\n",
    "    p.requires_grad = True\n"
   ]
  },
  {
   "cell_type": "code",
   "execution_count": null,
   "metadata": {
    "tags": []
   },
   "outputs": [],
   "source": []
  },
  {
   "cell_type": "code",
   "execution_count": 18,
   "metadata": {
    "tags": []
   },
   "outputs": [],
   "source": [
    "lossi = []\n",
    "stepi = []"
   ]
  },
  {
   "cell_type": "code",
   "execution_count": 16,
   "metadata": {
    "tags": []
   },
   "outputs": [],
   "source": [
    "ix = torch.randint(0, Xtr.shape[0], (batch_size,), generator=g)   ### random sampling\n",
    "\n",
    "Xb, Yb = Xtr[ix], Ytr[ix]      ## batch of training examples\n",
    "# forward pass\n",
    "emb = C[Xb] # (32, 3, 2)         ## Looking up embeddings (i.e., features corresponding to inputs)\n",
    "emb_concat = emb.view(emb.shape[0], -1)     ## concatenate vectors (creating features to feed into the hidden layer)\n",
    "h_pre_act = emb_concat @ W1 + b1    ## Hidden layer pre activation\n",
    "bn_mean_i = h_pre_act.mean(0, keepdims = True)\n",
    "bn_std_i = h_pre_act.std(0, keepdims = True)\n",
    "# h_pre_act = bn_gain * (h_pre_act - bn_mean_i)/ bn_std_i + bn_bias"
   ]
  },
  {
   "cell_type": "code",
   "execution_count": null,
   "metadata": {
    "tags": []
   },
   "outputs": [],
   "source": [
    "h_pre_act.mean(0)\n",
    "# .sum(0)/h_pre_act.shape[0]"
   ]
  },
  {
   "cell_type": "code",
   "execution_count": null,
   "metadata": {
    "tags": []
   },
   "outputs": [],
   "source": [
    "h_pre_act - bn_mean_i"
   ]
  },
  {
   "cell_type": "code",
   "execution_count": null,
   "metadata": {
    "tags": []
   },
   "outputs": [],
   "source": [
    "h_pre_act.shape, bn_gain.shape, bn_bias.shape, bn_mean_i.shape, bn_std_i.shapew"
   ]
  },
  {
   "cell_type": "code",
   "execution_count": null,
   "metadata": {
    "tags": []
   },
   "outputs": [],
   "source": [
    "# h_pre_act.std(0, keepdims = True)"
   ]
  },
  {
   "cell_type": "code",
   "execution_count": 26,
   "metadata": {
    "tags": []
   },
   "outputs": [
    {
     "name": "stdout",
     "output_type": "stream",
     "text": [
      "tensor(3.3149, grad_fn=<NllLossBackward0>)\n",
      "tensor(2.3880, grad_fn=<NllLossBackward0>)\n",
      "2.2789766788482666\n"
     ]
    }
   ],
   "source": [
    "# import sys\n",
    "batch_size = 32\n",
    "for i in range(20000):\n",
    "  \n",
    "    # minibatch construct\n",
    "    ix = torch.randint(0, Xtr.shape[0], (batch_size,), generator=g)   ### random sampling\n",
    "\n",
    "    Xb, Yb = Xtr[ix], Ytr[ix]      ## batch of training examples\n",
    "    # forward pass\n",
    "    emb = C[Xb] # (32, 3, 2)         ## Looking up embeddings (i.e., features corresponding to inputs)\n",
    "    emb_concat = emb.view(emb.shape[0], -1)     ## concatenate vectors (creating features to feed into the hidden layer)\n",
    "    h_pre_act = emb_concat @ W1 + b1    ## Hidden layer pre activation\n",
    "    bn_mean_i = h_pre_act.mean(0, keepdims = True)\n",
    "    bn_std_i = h_pre_act.std(0, keepdims = True)\n",
    "    h_pre_act = bn_gain * (h_pre_act - bn_mean_i)/ bn_std_i + bn_bias  ## Normalizing activation layer output \n",
    "    \n",
    "    with torch.no_grad():\n",
    "        bn_mean_running = 0.999 * bn_mean_running + 0.001 * bn_mean_i\n",
    "        bn_std_running = 0.999 * bn_std_running + 0.001 * bn_std_i\n",
    "    \n",
    "    h = torch.tanh(h_pre_act) # (32, 100)    ## Hidden layer activation\n",
    "    logits = h @ W2 + b2 # (32, 27)       ## Hidden layer output\n",
    "    \n",
    "    loss = F.cross_entropy(logits, Yb)      ## nll loss\n",
    "    \n",
    "    # backward pass\n",
    "    for p in parameters:\n",
    "        p.grad = None\n",
    "    loss.backward()\n",
    "\n",
    "    # update\n",
    "    lr = 0.1 if i < 10000 else 0.01\n",
    "    for p in parameters:\n",
    "        p.data += -lr * p.grad\n",
    "    \n",
    "    if(i % 10000 == 0):\n",
    "        print(loss)\n",
    "    \n",
    "    stepi.append(i)\n",
    "    lossi.append(loss.log10().item())\n",
    "    \n",
    "    # break\n",
    "\n",
    "print(loss.item())"
   ]
  },
  {
   "cell_type": "code",
   "execution_count": 20,
   "metadata": {
    "tags": []
   },
   "outputs": [
    {
     "data": {
      "text/plain": [
       "[<matplotlib.lines.Line2D at 0x78c5bbbba1d0>]"
      ]
     },
     "execution_count": 20,
     "metadata": {},
     "output_type": "execute_result"
    },
    {
     "data": {
      "image/png": "[encoded data removed]",
      "text/plain": [
       "<Figure size 640x480 with 1 Axes>"
      ]
     },
     "metadata": {},
     "output_type": "display_data"
    }
   ],
   "source": [
    "plt.plot(stepi, lossi)"
   ]
  },
  {
   "cell_type": "code",
   "execution_count": null,
   "metadata": {
    "tags": []
   },
   "outputs": [],
   "source": [
    "import math\n",
    "-math.log(1/27)"
   ]
  },
  {
   "cell_type": "code",
   "execution_count": null,
   "metadata": {
    "tags": []
   },
   "outputs": [],
   "source": [
    "print(-torch.tensor(1/27).log())             ## loss when all characters are equally probably (i.e., baseline loss)\n",
    "# logits = torch.rand(4)\n",
    "# logits = torch.tensor([-3.0, 5.0, 1.0, 4.0])\n",
    "# probs = torch.softmax(logits, dim = 0)\n",
    "# loss = - probs[2].log()\n",
    "# logits, probs, loss"
   ]
  },
  {
   "cell_type": "markdown",
   "metadata": {},
   "source": [
    "##### Training loss"
   ]
  },
  {
   "cell_type": "code",
   "execution_count": 27,
   "metadata": {
    "tags": []
   },
   "outputs": [
    {
     "data": {
      "text/plain": [
       "tensor(2.2306, grad_fn=<NllLossBackward0>)"
      ]
     },
     "execution_count": 27,
     "metadata": {},
     "output_type": "execute_result"
    }
   ],
   "source": [
    "emb = C[Xtr] # (32, 3, 2)\n",
    "emb_concat = emb.view(emb.shape[0], -1)     ## concatenate vectors (creating features to feed into the hidden layer)\n",
    "h_pre_act = emb_concat @ W1 + b1    ## Hidden layer pre activation\n",
    "h_pre_act = bn_gain * (h_pre_act - bn_mean_running)/bn_std_running + bn_bias  ## Normalizing activation layer output \n",
    "h = torch.tanh(h_pre_act) # (32, 100)    ## Hidden layer activation\n",
    "logits = h @ W2 + b2\n",
    "\n",
    "# h = torch.tanh(emb.view(-1, 50) @ W1 + b1) # (32, 100)\n",
    "# logits = h @ W2 + b2 # (32, 27)\n",
    "loss = F.cross_entropy(logits, Ytr)\n",
    "loss"
   ]
  },
  {
   "cell_type": "markdown",
   "metadata": {},
   "source": [
    "##### Validaton Loss"
   ]
  },
  {
   "cell_type": "code",
   "execution_count": 28,
   "metadata": {
    "tags": []
   },
   "outputs": [
    {
     "data": {
      "text/plain": [
       "tensor(2.2358, grad_fn=<NllLossBackward0>)"
      ]
     },
     "execution_count": 28,
     "metadata": {},
     "output_type": "execute_result"
    }
   ],
   "source": [
    "emb = C[Xdev] # (32, 3, 2)\n",
    "emb_concat = emb.view(emb.shape[0], -1)     ## concatenate vectors (creating features to feed into the hidden layer)\n",
    "h_pre_act = emb_concat @ W1 + b1    ## Hidden layer pre activation\n",
    "h_pre_act = bn_gain * (h_pre_act - bn_mean_running)/bn_std_running + bn_bias  ## Normalizing activation layer output \n",
    "h = torch.tanh(h_pre_act) # (32, 100)    ## Hidden layer activation\n",
    "logits = h @ W2 + b2\n",
    "# h = torch.tanh(emb.view(-1, 50) @ W1 + b1) # (32, 100)\n",
    "# logits = h @ W2 + b2 # (32, 27)\n",
    "loss = F.cross_entropy(logits, Ydev)\n",
    "loss"
   ]
  },
  {
   "cell_type": "code",
   "execution_count": null,
   "metadata": {},
   "outputs": [],
   "source": []
  },
  {
   "cell_type": "markdown",
   "metadata": {},
   "source": [
    "### Lets look at Activations and PreActivations"
   ]
  },
  {
   "cell_type": "code",
   "execution_count": null,
   "metadata": {
    "tags": []
   },
   "outputs": [],
   "source": [
    "h #logits"
   ]
  },
  {
   "cell_type": "code",
   "execution_count": 21,
   "metadata": {
    "tags": []
   },
   "outputs": [
    {
     "data": {
      "image/png": "[encoded data removed]",
      "text/plain": [
       "<Figure size 640x480 with 1 Axes>"
      ]
     },
     "metadata": {},
     "output_type": "display_data"
    }
   ],
   "source": [
    "plt.hist(h_pre_act.view(-1).tolist(), 50);"
   ]
  },
  {
   "cell_type": "code",
   "execution_count": 22,
   "metadata": {
    "tags": []
   },
   "outputs": [
    {
     "data": {
      "image/png": "[encoded data removed]",
      "text/plain": [
       "<Figure size 640x480 with 1 Axes>"
      ]
     },
     "metadata": {},
     "output_type": "display_data"
    }
   ],
   "source": [
    "plt.hist(h.view(-1).tolist(), 50);"
   ]
  },
  {
   "cell_type": "code",
   "execution_count": null,
   "metadata": {},
   "outputs": [],
   "source": []
  },
  {
   "cell_type": "markdown",
   "metadata": {},
   "source": [
    "### Dead neurons\n",
    "\n",
    "- Dead neurons are created when a column of h (activations) is all 1s or -1s. The gradients in that case would be all 0s and the dot product with anything for that column would yield a 0, hence a dead neuron (in W). Dead neurons are incapable of training as no gradient passes through them, hence no change in weights.\n",
    "\n",
    "- Dead nuerons could become a problem with any activation function that has flat tails (example, sigmoid, tanh, ReLU). Soultion is: Leaky ReLU (max(0.1x,x))\n",
    "\n",
    "- No training example ever activates a dead neuron\n",
    "\n",
    "- Sometimes due to high learning rates, some neurons may be knocked off to flat tails and eventually become dead"
   ]
  },
  {
   "cell_type": "code",
   "execution_count": null,
   "metadata": {
    "tags": []
   },
   "outputs": [],
   "source": [
    "plt.figure(figsize = (20,10))\n",
    "plt.imshow(h.abs() > 0.99, cmap = 'gray', interpolation = 'nearest')"
   ]
  },
  {
   "cell_type": "markdown",
   "metadata": {},
   "source": [
    "#### How can we fix dead Neurons?\n",
    "- By ensuring that Activations take reasonable values (pre activations should be close to unit gaussian)"
   ]
  },
  {
   "cell_type": "markdown",
   "metadata": {},
   "source": [
    "### Ensuring Activations take on reasonable values (close to unit gaussian)\n",
    "\n",
    "- Refer to paper: https://dl.acm.org/doi/abs/10.1109/ICCV.2015.123 for optimal values\n",
    "- Pytorch implementation: https://pytorch.org/docs/stable/nn.init.html"
   ]
  },
  {
   "cell_type": "code",
   "execution_count": 50,
   "metadata": {
    "tags": []
   },
   "outputs": [
    {
     "name": "stdout",
     "output_type": "stream",
     "text": [
      "X mean:  tensor(-0.0040) std:  tensor(0.9999)\n",
      "Y mean:  tensor(-0.0042) std:  tensor(1.0518)\n"
     ]
    },
    {
     "data": {
      "text/plain": [
       "<seaborn.axisgrid.FacetGrid at 0x78c504b52500>"
      ]
     },
     "execution_count": 50,
     "metadata": {},
     "output_type": "execute_result"
    },
    {
     "data": {
      "image/png": "[encoded data removed]",
      "text/plain": [
       "<Figure size 558.25x500 with 1 Axes>"
      ]
     },
     "metadata": {},
     "output_type": "display_data"
    }
   ],
   "source": [
    "import pandas as pd\n",
    "import seaborn as sns\n",
    "\n",
    "x = torch.randn(1000, 100)\n",
    "w = torch.randn(100, 200)  \n",
    "w_act = torch.tanh(w) * 5/(3 * 100**0.5) ### * 0.2 or * 5? (/10**0.5)\n",
    "y = x @ w_act\n",
    "print(\"X mean: \", x.mean(), \"std: \", x.std())\n",
    "print(\"Y mean: \", y.mean(), \"std: \" ,y.std())\n",
    "\n",
    "x = x.view(-1)\n",
    "y = torch.Tensor(pd.Series(y.view(-1)).sample(x.view(-1).shape[0]).tolist())\n",
    "# y = y.view(-1)\n",
    "\n",
    "df = pd.DataFrame()\n",
    "df['dist'] = x\n",
    "df['type'] = ['x'] * df.shape[0]\n",
    "\n",
    "df_ = pd.DataFrame()\n",
    "df_['dist'] = y\n",
    "df_['type'] = ['y'] * df_.shape[0]\n",
    "\n",
    "df = pd.concat((df, df_), axis = 0)\n",
    "\n",
    "sns.displot(df, x = 'dist', hue=\"type\", kind=\"kde\", fill=True)\n",
    "\n",
    "# Modern innovations that help with these issues (optimal initialization less of an issue now):\n",
    "# Normalization (Batch, Layer, Group)\n",
    "# Residual connections\n",
    "# Better Optimizers than Gradient Descent (Adam optimizer)"
   ]
  },
  {
   "cell_type": "code",
   "execution_count": null,
   "metadata": {
    "tags": []
   },
   "outputs": [],
   "source": []
  },
  {
   "cell_type": "code",
   "execution_count": 62,
   "metadata": {
    "tags": []
   },
   "outputs": [],
   "source": [
    "#### Computing batch mean and std. (from the entire training set) to be used at inference\n",
    "\n",
    "# with torch.no_grad():\n",
    "    \n",
    "#     emb = C[Xtr]\n",
    "#     emb_concat = emb.view(emb.shape[0], -1)\n",
    "#     h_pre_act = emb_concat @ W1 + b1\n",
    "    \n",
    "#     bn_mean = h_pre_act.mean(0, keepdims = True)\n",
    "#     bn_std = h_pre_act.std(0, keepdims = True)\n",
    "    \n",
    "# torch.allclose(bn_mean_running[0], bn_mean[0], atol = 1e-1)"
   ]
  },
  {
   "cell_type": "code",
   "execution_count": 56,
   "metadata": {
    "tags": []
   },
   "outputs": [
    {
     "name": "stdout",
     "output_type": "stream",
     "text": [
      "yaesyahleighn.\n",
      "dlee.\n",
      "khmani.\n",
      "jyantryandanten.\n",
      "ena.\n",
      "dayamiiah.\n",
      "abkeles.\n",
      "lon.\n",
      "toy.\n",
      "alitailani.\n",
      "lannezuse.\n",
      "shalla.\n",
      "motin.\n",
      "cell.\n",
      "kaylyn.\n",
      "zeriagrten.\n",
      "kilynolli.\n",
      "eioushyla.\n",
      "nychaizelayana.\n",
      "barie.\n"
     ]
    }
   ],
   "source": [
    "# sample from the model\n",
    "g = torch.Generator().manual_seed(42)\n",
    "\n",
    "for _ in range(20):\n",
    "    \n",
    "    out = []\n",
    "    context = [0] * block_size # initialize with all ...\n",
    "    while True:\n",
    "        \n",
    "        \n",
    "      emb = C[torch.tensor([context])] # (1,block_size,d)\n",
    "      emb_concat = emb.view(emb.shape[0], -1)     ## concatenate vectors (creating features to feed into the hidden layer)\n",
    "      h_pre_act = emb_concat @ W1 + b1    ## Hidden layer pre activation\n",
    "      # h_pre_act = bn_gain * (h_pre_act - bn_mean)/bn_std + bn_bias  ## Normalizing activation layer output \n",
    "      h_pre_act = bn_gain * (h_pre_act - bn_mean_running)/bn_std_running + bn_bias\n",
    "      h = torch.tanh(h_pre_act) # (32, 100)    ## Hidden layer activation\n",
    "      logits = h @ W2 + b2\n",
    "      \n",
    "      # h = torch.tanh(emb.view(1, -1) @ W1 + b1)\n",
    "      # logits = h @ W2 + b2\n",
    "      probs = F.softmax(logits, dim=1)\n",
    "      ix = torch.multinomial(probs, num_samples=1, generator=g).item()\n",
    "      context = context[1:] + [ix]\n",
    "      out.append(ix)\n",
    "      if ix == 0:\n",
    "        break\n",
    "    \n",
    "    print(''.join(itos[i] for i in out))"
   ]
  },
  {
   "cell_type": "code",
   "execution_count": null,
   "metadata": {},
   "outputs": [],
   "source": []
  }
 ],
 "metadata": {
  "kernelspec": {
   "display_name": "py3_10",
   "language": "python",
   "name": "py3_10"
  },
  "language_info": {
   "codemirror_mode": {
    "name": "ipython",
    "version": 3
   },
   "file_extension": ".py",
   "mimetype": "text/x-python",
   "name": "python",
   "nbconvert_exporter": "python",
   "pygments_lexer": "ipython3",
   "version": "3.10.12"
  }
 },
 "nbformat": 4,
 "nbformat_minor": 4
}
