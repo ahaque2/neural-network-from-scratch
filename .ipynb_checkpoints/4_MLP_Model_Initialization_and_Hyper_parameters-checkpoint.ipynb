{
 "cells": [
  {
   "cell_type": "markdown",
   "metadata": {},
   "source": [
    "### Initializing the network\n",
    "\n",
    "- We implement [Bengio et al. 2003](https://www.jmlr.org/papers/volume3/bengio03a/bengio03a.pdf)\n",
    "\n",
    "#### Two major issues in the initialization:\n",
    "- Last layer likely to predict incorrect predictions with a lot of confidence initially due to random weights\n",
    "- Preactivations are super skewed (many 1s and -1s). Tanh gives ~0 gradient when values are close to -1 and 1 and passes the gradient (\\*1) through if the values are close to ~0. (Gradient Vanishes, dead neurons). \n",
    "\n",
    "#### Why is unchecked random assignment for Weights not a good idea?\n",
    "- More likely to amplify loss\n",
    "- A potential solution is to keep weights close to uniform\n",
    "\n",
    "- Scaling factors can be found in this paper: https://arxiv.org/pdf/1502.01852\n",
    "- Kaiming initialization ()\n",
    " \n",
    " \n",
    "##### Modern innovations like Residual connections, Number of Normalization Layers (such as batch normalization), and much better optimers compared to gradient descent (such as Adam optimizer) makes it less important to ensure a good initialization "
   ]
  },
  {
   "cell_type": "code",
   "execution_count": null,
   "metadata": {},
   "outputs": [],
   "source": []
  },
  {
   "cell_type": "code",
   "execution_count": null,
   "metadata": {},
   "outputs": [],
   "source": [
    "import torch\n",
    "import torch.nn.functional as F\n",
    "import matplotlib.pyplot as plt # for making figures\n",
    "%matplotlib inline"
   ]
  },
  {
   "cell_type": "code",
   "execution_count": 88,
   "metadata": {
    "tags": []
   },
   "outputs": [
    {
     "data": {
      "text/plain": [
       "['emma', 'olivia', 'ava', 'isabella', 'sophia', 'charlotte', 'mia', 'amelia']"
      ]
     },
     "execution_count": 88,
     "metadata": {},
     "output_type": "execute_result"
    }
   ],
   "source": [
    "# read in all the words\n",
    "words = open('data/names.txt', 'r').read().splitlines()\n",
    "words[:8]"
   ]
  },
  {
   "cell_type": "code",
   "execution_count": 89,
   "metadata": {
    "tags": []
   },
   "outputs": [
    {
     "data": {
      "text/plain": [
       "32033"
      ]
     },
     "execution_count": 89,
     "metadata": {},
     "output_type": "execute_result"
    }
   ],
   "source": [
    "len(words)"
   ]
  },
  {
   "cell_type": "code",
   "execution_count": 90,
   "metadata": {
    "tags": []
   },
   "outputs": [
    {
     "name": "stdout",
     "output_type": "stream",
     "text": [
      "{1: 'a', 2: 'b', 3: 'c', 4: 'd', 5: 'e', 6: 'f', 7: 'g', 8: 'h', 9: 'i', 10: 'j', 11: 'k', 12: 'l', 13: 'm', 14: 'n', 15: 'o', 16: 'p', 17: 'q', 18: 'r', 19: 's', 20: 't', 21: 'u', 22: 'v', 23: 'w', 24: 'x', 25: 'y', 26: 'z', 0: '.'}\n"
     ]
    }
   ],
   "source": [
    "# build the vocabulary of characters and mappings to/from integers\n",
    "chars = sorted(list(set(''.join(words))))\n",
    "stoi = {s:i+1 for i,s in enumerate(chars)}\n",
    "stoi['.'] = 0\n",
    "itos = {i:s for s,i in stoi.items()}\n",
    "print(itos)"
   ]
  },
  {
   "cell_type": "code",
   "execution_count": 103,
   "metadata": {
    "tags": []
   },
   "outputs": [
    {
     "name": "stdout",
     "output_type": "stream",
     "text": [
      "torch.Size([182580, 3]) torch.Size([182580])\n",
      "torch.Size([22767, 3]) torch.Size([22767])\n",
      "torch.Size([22799, 3]) torch.Size([22799])\n"
     ]
    }
   ],
   "source": [
    "# build the dataset\n",
    "block_size = 3 # context length: how many characters do we take to predict the next one?\n",
    "\n",
    "def build_dataset(words):  \n",
    "  X, Y = [], []\n",
    "  for w in words:\n",
    "\n",
    "    #print(w)\n",
    "    context = [0] * block_size\n",
    "    for ch in w + '.':\n",
    "      ix = stoi[ch]\n",
    "      X.append(context)\n",
    "      Y.append(ix)\n",
    "      # print(''.join(itos[i] for i in context), '--->', itos[ix])\n",
    "      context = context[1:] + [ix] # crop and append\n",
    "\n",
    "  X = torch.tensor(X)\n",
    "  Y = torch.tensor(Y)\n",
    "  print(X.shape, Y.shape)\n",
    "  return X, Y\n",
    "\n",
    "import random\n",
    "random.seed(42)\n",
    "random.shuffle(words)\n",
    "n1 = int(0.8*len(words))\n",
    "n2 = int(0.9*len(words))\n",
    "# n1 = 20\n",
    "# n2 = 30\n",
    "\n",
    "Xtr, Ytr = build_dataset(words[:n1])\n",
    "Xdev, Ydev = build_dataset(words[n1:n2])\n",
    "Xte, Yte = build_dataset(words[n2:])"
   ]
  },
  {
   "cell_type": "code",
   "execution_count": 104,
   "metadata": {
    "tags": []
   },
   "outputs": [],
   "source": [
    "# Xtr[0:10], Ytr[0:10]"
   ]
  },
  {
   "cell_type": "markdown",
   "metadata": {},
   "source": []
  },
  {
   "cell_type": "code",
   "execution_count": 150,
   "metadata": {
    "tags": []
   },
   "outputs": [
    {
     "name": "stdout",
     "output_type": "stream",
     "text": [
      "11697\n"
     ]
    }
   ],
   "source": [
    "n_embd = 10\n",
    "n_hidden = 200\n",
    "vs = 27    # vocab size\n",
    "\n",
    "g = torch.Generator().manual_seed(42) # for reproducibility\n",
    "C = torch.randn((vs, n_embd), generator=g)\n",
    "W1 = torch.randn((n_embd * block_size, n_hidden), generator=g) * 0.2 #* (5/3)/(n_embd * block_size) #**0.5 # * 0.2  or * (5/3)/(n_embd * block_size)**0.5\n",
    "b1 = torch.randn(n_hidden, generator=g)    * 0.01\n",
    "W2 = torch.randn((n_hidden, vs), generator=g) * 0.01\n",
    "b2 = torch.randn(vs, generator=g) * 0\n",
    "\n",
    "bn_gain = torch.ones((1, n_hidden))\n",
    "bn_bias = torch.zeros((1, n_hidden))\n",
    "bn_mean_running = torch.ones((1, n_hidden))\n",
    "bn_std_running = torch.zeros((1, n_hidden))\n",
    "\n",
    "parameters = [C, W1, W2, b2] #, bn_gain, bn_bias]\n",
    "print(sum(p.nelement() for p in parameters)) # number of parameters in total\n",
    "\n",
    "for p in parameters:\n",
    "    p.requires_grad = True\n"
   ]
  },
  {
   "cell_type": "code",
   "execution_count": 151,
   "metadata": {
    "tags": []
   },
   "outputs": [],
   "source": [
    "lossi = []\n",
    "stepi = []"
   ]
  },
  {
   "cell_type": "code",
   "execution_count": 152,
   "metadata": {
    "tags": []
   },
   "outputs": [],
   "source": [
    "# h_pre_act.std(0, keepdims = True)"
   ]
  },
  {
   "cell_type": "code",
   "execution_count": 153,
   "metadata": {
    "tags": []
   },
   "outputs": [
    {
     "name": "stdout",
     "output_type": "stream",
     "text": [
      "tensor(3.3027, grad_fn=<NllLossBackward0>)\n",
      "3.3027122020721436\n"
     ]
    }
   ],
   "source": [
    "# import sys\n",
    "batch_size = 32\n",
    "for i in range(200000):\n",
    "  \n",
    "    # minibatch construct\n",
    "    ix = torch.randint(0, Xtr.shape[0], (batch_size,), generator=g)   ### random sampling\n",
    "\n",
    "    Xb, Yb = Xtr[ix], Ytr[ix]      ## batch of training examples\n",
    "    # forward pass\n",
    "    emb = C[Xb] # (32, 3, 2)         ## Looking up embeddings (i.e., features corresponding to inputs)\n",
    "    emb_concat = emb.view(emb.shape[0], -1)     ## concatenate vectors (creating features to feed into the hidden layer)\n",
    "    h_pre_act = emb_concat @ W1 + b1    ## Hidden layer pre activation\n",
    "#     bn_mean_i = h_pre_act.mean(0, keepdims = True)\n",
    "#     bn_std_i = h_pre_act.std(0, keepdims = True)\n",
    "#     h_pre_act = bn_gain * (h_pre_act - bn_mean_i)/ bn_std_i + bn_bias  ## Normalizing activation layer output \n",
    "    \n",
    "#     with torch.no_grad():\n",
    "#         bn_mean_running = 0.999 * bn_mean_running + 0.001 * bn_mean_i\n",
    "#         bn_std_running = 0.999 * bn_std_running + 0.001 * bn_std_i\n",
    "    \n",
    "    h = torch.tanh(h_pre_act) # (32, 100)    ## Hidden layer activation\n",
    "    logits = h @ W2 + b2 # (32, 27)       ## Hidden layer output\n",
    "    \n",
    "    loss = F.cross_entropy(logits, Yb)      ## nll loss\n",
    "    \n",
    "    # backward pass\n",
    "    for p in parameters:\n",
    "        p.grad = None\n",
    "    loss.backward()\n",
    "\n",
    "    # update\n",
    "    lr = 0.1 if i < 100000 else 0.01\n",
    "    for p in parameters:\n",
    "        p.data += -lr * p.grad\n",
    "    \n",
    "    if(i % 10000 == 0):\n",
    "        print(loss)\n",
    "    \n",
    "    stepi.append(i)\n",
    "    lossi.append(loss.log10().item())\n",
    "    \n",
    "    break\n",
    "\n",
    "print(loss.item())"
   ]
  },
  {
   "cell_type": "code",
   "execution_count": 154,
   "metadata": {
    "tags": []
   },
   "outputs": [
    {
     "data": {
      "text/plain": [
       "[<matplotlib.lines.Line2D at 0x72fb445aba60>]"
      ]
     },
     "execution_count": 154,
     "metadata": {},
     "output_type": "execute_result"
    },
    {
     "data": {
      "image/png": "[encoded data removed]",
      "text/plain": [
       "<Figure size 640x480 with 1 Axes>"
      ]
     },
     "metadata": {},
     "output_type": "display_data"
    }
   ],
   "source": [
    "plt.plot(stepi, lossi)"
   ]
  },
  {
   "cell_type": "code",
   "execution_count": 117,
   "metadata": {
    "tags": []
   },
   "outputs": [
    {
     "data": {
      "text/plain": [
       "3.295836866004329"
      ]
     },
     "execution_count": 117,
     "metadata": {},
     "output_type": "execute_result"
    }
   ],
   "source": [
    "import math\n",
    "-math.log(1/27)"
   ]
  },
  {
   "cell_type": "code",
   "execution_count": 57,
   "metadata": {
    "tags": []
   },
   "outputs": [
    {
     "name": "stdout",
     "output_type": "stream",
     "text": [
      "tensor(3.2958)\n"
     ]
    }
   ],
   "source": [
    "print(-torch.tensor(1/27).log())             ## loss when all characters are equally probably (i.e., baseline loss)\n",
    "# logits = torch.rand(4)\n",
    "# logits = torch.tensor([-3.0, 5.0, 1.0, 4.0])\n",
    "# probs = torch.softmax(logits, dim = 0)\n",
    "# loss = - probs[2].log()\n",
    "# logits, probs, loss"
   ]
  },
  {
   "cell_type": "markdown",
   "metadata": {},
   "source": [
    "##### Training loss"
   ]
  },
  {
   "cell_type": "code",
   "execution_count": 34,
   "metadata": {
    "tags": []
   },
   "outputs": [
    {
     "data": {
      "text/plain": [
       "tensor(2.0663, grad_fn=<NllLossBackward0>)"
      ]
     },
     "execution_count": 34,
     "metadata": {},
     "output_type": "execute_result"
    }
   ],
   "source": [
    "emb = C[Xtr] # (32, 3, 2)\n",
    "emb_concat = emb.view(emb.shape[0], -1)     ## concatenate vectors (creating features to feed into the hidden layer)\n",
    "h_pre_act = emb_concat @ W1 + b1    ## Hidden layer pre activation\n",
    "h_pre_act = bn_gain * (h_pre_act - bn_mean_running)/bn_std_running + bn_bias  ## Normalizing activation layer output \n",
    "h = torch.tanh(h_pre_act) # (32, 100)    ## Hidden layer activation\n",
    "logits = h @ W2 + b2\n",
    "\n",
    "# h = torch.tanh(emb.view(-1, 50) @ W1 + b1) # (32, 100)\n",
    "# logits = h @ W2 + b2 # (32, 27)\n",
    "loss = F.cross_entropy(logits, Ytr)\n",
    "loss"
   ]
  },
  {
   "cell_type": "markdown",
   "metadata": {},
   "source": [
    "##### Validaton Loss"
   ]
  },
  {
   "cell_type": "code",
   "execution_count": 35,
   "metadata": {
    "tags": []
   },
   "outputs": [
    {
     "data": {
      "text/plain": [
       "tensor(2.1243, grad_fn=<NllLossBackward0>)"
      ]
     },
     "execution_count": 35,
     "metadata": {},
     "output_type": "execute_result"
    }
   ],
   "source": [
    "emb = C[Xdev] # (32, 3, 2)\n",
    "emb_concat = emb.view(emb.shape[0], -1)     ## concatenate vectors (creating features to feed into the hidden layer)\n",
    "h_pre_act = emb_concat @ W1 + b1    ## Hidden layer pre activation\n",
    "h_pre_act = bn_gain * (h_pre_act - bn_mean_running)/bn_std_running + bn_bias  ## Normalizing activation layer output \n",
    "h = torch.tanh(h_pre_act) # (32, 100)    ## Hidden layer activation\n",
    "logits = h @ W2 + b2\n",
    "# h = torch.tanh(emb.view(-1, 50) @ W1 + b1) # (32, 100)\n",
    "# logits = h @ W2 + b2 # (32, 27)\n",
    "loss = F.cross_entropy(logits, Ydev)\n",
    "loss"
   ]
  },
  {
   "cell_type": "markdown",
   "metadata": {},
   "source": []
  },
  {
   "cell_type": "code",
   "execution_count": null,
   "metadata": {
    "tags": []
   },
   "outputs": [],
   "source": []
  },
  {
   "cell_type": "code",
   "execution_count": null,
   "metadata": {
    "tags": []
   },
   "outputs": [],
   "source": []
  },
  {
   "cell_type": "markdown",
   "metadata": {},
   "source": [
    "### Lets look at Activations and PreActivations"
   ]
  },
  {
   "cell_type": "code",
   "execution_count": null,
   "metadata": {
    "tags": []
   },
   "outputs": [],
   "source": [
    "h #logits"
   ]
  },
  {
   "cell_type": "code",
   "execution_count": 155,
   "metadata": {
    "tags": []
   },
   "outputs": [
    {
     "data": {
      "image/png": "[encoded data removed]",
      "text/plain": [
       "<Figure size 640x480 with 1 Axes>"
      ]
     },
     "metadata": {},
     "output_type": "display_data"
    }
   ],
   "source": [
    "plt.hist(h.view(-1).tolist(), 50);"
   ]
  },
  {
   "cell_type": "code",
   "execution_count": 156,
   "metadata": {
    "tags": []
   },
   "outputs": [
    {
     "data": {
      "image/png": "[encoded data removed]",
      "text/plain": [
       "<Figure size 640x480 with 1 Axes>"
      ]
     },
     "metadata": {},
     "output_type": "display_data"
    }
   ],
   "source": [
    "plt.hist(h_pre_act.view(-1).tolist(), 50);"
   ]
  },
  {
   "cell_type": "markdown",
   "metadata": {},
   "source": [
    "### Dead neurons\n",
    "\n",
    "- Dead neurons are created when a column of h (activations) is all 1s or -1s. The gradients in that case would be all 0s and the dot product with anything for that column would yield a 0, hence a dead neuron (in W). Dead neurons are incapable of training as no gradient passes through them, hence no change in weights.\n",
    "\n",
    "- Dead nuerons could become a problem with any activation function that has flat tails (example, sigmoid, tanh, ReLU). Soultion is: Leaky ReLU (max(0.1x,x))\n",
    "\n",
    "- No training example ever activates a dead neuron\n",
    "\n",
    "- Sometimes due to high learning rates, some neurons may be knocked off to flat tails and eventually become dead"
   ]
  },
  {
   "cell_type": "code",
   "execution_count": 157,
   "metadata": {
    "tags": []
   },
   "outputs": [
    {
     "data": {
      "text/plain": [
       "<matplotlib.image.AxesImage at 0x72fb45569bd0>"
      ]
     },
     "execution_count": 157,
     "metadata": {},
     "output_type": "execute_result"
    },
    {
     "data": {
      "image/png": "[encoded data removed]",
      "text/plain": [
       "<Figure size 2000x1000 with 1 Axes>"
      ]
     },
     "metadata": {},
     "output_type": "display_data"
    }
   ],
   "source": [
    "plt.figure(figsize = (20,10))\n",
    "plt.imshow(h.abs() > 0.99, cmap = 'gray', interpolation = 'nearest')"
   ]
  },
  {
   "cell_type": "markdown",
   "metadata": {},
   "source": [
    "#### How can we fix dead Neurons?\n",
    "- By ensuring that Activations take reasonable values (pre activations should be close to unit gaussian)"
   ]
  },
  {
   "cell_type": "markdown",
   "metadata": {},
   "source": [
    "### Ensuring Activations take on reasonable values (close to unit gaussian)\n",
    "\n",
    "- Refer to paper: https://dl.acm.org/doi/abs/10.1109/ICCV.2015.123 for optimal values\n",
    "- Pytorch implementation: https://pytorch.org/docs/stable/nn.init.html\n",
    "\n",
    "- Demonstration of Kaiming normalization"
   ]
  },
  {
   "cell_type": "code",
   "execution_count": 160,
   "metadata": {
    "tags": []
   },
   "outputs": [
    {
     "name": "stdout",
     "output_type": "stream",
     "text": [
      "X mean:  tensor(0.0020) std:  tensor(1.0015)\n",
      "Y mean:  tensor(-0.0011) std:  tensor(1.0504)\n"
     ]
    },
    {
     "data": {
      "text/plain": [
       "<seaborn.axisgrid.FacetGrid at 0x72fb451cc670>"
      ]
     },
     "execution_count": 160,
     "metadata": {},
     "output_type": "execute_result"
    },
    {
     "data": {
      "image/png": "[encoded data removed]",
      "text/plain": [
       "<Figure size 558.25x500 with 1 Axes>"
      ]
     },
     "metadata": {},
     "output_type": "display_data"
    }
   ],
   "source": [
    "import pandas as pd\n",
    "import seaborn as sns\n",
    "\n",
    "x = torch.randn(1000, 100)\n",
    "w = torch.randn(100, 200)  \n",
    "w_act = torch.tanh(w) * 5/(3 * 100**0.5) ### * 0.2 or * 5? (/10**0.5)\n",
    "y = x @ w_act\n",
    "print(\"X mean: \", x.mean(), \"std: \", x.std())\n",
    "print(\"Y mean: \", y.mean(), \"std: \" ,y.std())\n",
    "\n",
    "x = x.view(-1)\n",
    "y = torch.Tensor(pd.Series(y.view(-1)).sample(x.view(-1).shape[0]).tolist())\n",
    "# y = y.view(-1)\n",
    "\n",
    "df = pd.DataFrame()\n",
    "df['dist'] = x\n",
    "df['type'] = ['x'] * df.shape[0]\n",
    "\n",
    "df_ = pd.DataFrame()\n",
    "df_['dist'] = y\n",
    "df_['type'] = ['y'] * df_.shape[0]\n",
    "\n",
    "df = pd.concat((df, df_), axis = 0)\n",
    "\n",
    "sns.displot(df, x = 'dist', hue=\"type\", kind=\"kde\", fill=True)\n",
    "\n",
    "# Modern innovations that help with these issues (optimal initialization less of an issue now):\n",
    "# Normalization (Batch, Layer, Group)\n",
    "# Residual connections\n",
    "# Better Optimizers than Gradient Descent (Adam optimizer)"
   ]
  },
  {
   "cell_type": "code",
   "execution_count": null,
   "metadata": {
    "tags": []
   },
   "outputs": [],
   "source": [
    "x.std(), w.std(), y.std()"
   ]
  },
  {
   "cell_type": "code",
   "execution_count": null,
   "metadata": {
    "tags": []
   },
   "outputs": [],
   "source": [
    "x.mean(), w.mean(), y.mean()"
   ]
  },
  {
   "cell_type": "code",
   "execution_count": null,
   "metadata": {
    "tags": []
   },
   "outputs": [],
   "source": []
  },
  {
   "cell_type": "markdown",
   "metadata": {},
   "source": [
    "### Batch Normalization"
   ]
  },
  {
   "cell_type": "code",
   "execution_count": null,
   "metadata": {
    "tags": []
   },
   "outputs": [],
   "source": []
  },
  {
   "cell_type": "code",
   "execution_count": null,
   "metadata": {
    "tags": []
   },
   "outputs": [],
   "source": []
  },
  {
   "cell_type": "code",
   "execution_count": 15,
   "metadata": {
    "tags": []
   },
   "outputs": [],
   "source": [
    "### Computing batch mean and std. to be used at inference\n",
    "\n",
    "with torch.no_grad():\n",
    "    \n",
    "    emb = C[Xtr]\n",
    "    emb_concat = emb.view(emb.shape[0], -1)\n",
    "    h_pre_act = emb_concat @ W1 + b1\n",
    "    \n",
    "    bn_mean = h_pre_act.mean(0, keepdims = True)\n",
    "    bn_std = h_pre_act.std(0, keepdims = True)"
   ]
  },
  {
   "cell_type": "code",
   "execution_count": null,
   "metadata": {},
   "outputs": [],
   "source": []
  },
  {
   "cell_type": "code",
   "execution_count": 18,
   "metadata": {
    "tags": []
   },
   "outputs": [
    {
     "data": {
      "text/plain": [
       "tensor([-2.1124,  0.1998, -1.1114,  1.6529,  0.5888,  0.1967,  3.1384, -1.0810,\n",
       "         1.0420,  0.2558, -1.7771, -2.4019, -0.8887, -0.1092, -0.0749,  0.9403,\n",
       "        -0.1133, -2.2342, -0.7723,  1.0172,  0.6484,  0.0561, -1.1466,  0.6435,\n",
       "         1.7602,  1.9486,  1.1539,  0.3976,  0.9565,  1.6923,  0.3432, -1.4226,\n",
       "        -0.0764, -0.0993, -1.0523, -0.8364, -0.6504,  0.3662, -0.4756,  0.8928,\n",
       "         0.3035, -0.3340,  0.0215, -0.0733,  0.3006,  0.9378,  1.4841, -1.4514,\n",
       "         2.8167,  1.3146,  1.9130, -0.7064,  1.7178,  0.8700,  1.3394, -2.1420,\n",
       "        -0.6629,  0.9004,  1.4092, -1.0025, -0.5022,  0.5177,  1.4055,  0.3087,\n",
       "         1.2340,  1.1906, -0.4272,  1.1478, -1.1972, -0.2242, -0.1803,  0.5114,\n",
       "         0.1127, -1.5429, -2.2113,  0.3358,  0.8577,  0.0585,  0.2979,  0.7609,\n",
       "         0.3021,  1.5997,  0.5954,  0.6403,  0.2959, -0.7417, -1.0491,  0.0400,\n",
       "         2.0258, -0.3119, -0.8031,  0.3354, -1.2299, -0.6821, -0.7503,  0.6512,\n",
       "        -0.2135,  0.4422,  0.1584, -0.8675,  0.3972,  0.2516, -1.0342,  0.6560,\n",
       "         0.2022,  1.0274, -0.4356, -0.5026,  0.6367, -0.1262,  1.4425, -0.0498,\n",
       "         0.4472,  2.0322,  1.7564,  1.6291,  1.0718,  0.3573,  1.0606,  0.0751,\n",
       "        -1.4169, -1.3074,  0.2923,  2.3559, -1.5495, -0.1586, -0.4508, -0.2720,\n",
       "        -1.5698, -0.8210,  2.4361, -0.0043,  0.3135,  1.4745,  0.7880,  1.7267,\n",
       "        -0.5392,  1.6371,  0.3647,  0.4961,  0.8328, -0.0942,  1.2470,  0.1416,\n",
       "         0.4810,  1.0213,  1.6805,  0.1623,  0.6188,  0.3914, -0.8094,  1.0047,\n",
       "         1.3688,  2.1094,  0.5951,  0.1081,  1.5042, -1.5289, -0.1882,  0.9357,\n",
       "         1.4911, -0.6222,  0.8928, -1.0090, -0.4349, -0.5975, -0.1367,  0.1628,\n",
       "        -1.6569, -1.2829,  0.9463, -2.2652,  0.3338, -0.9729, -0.1387,  1.0919,\n",
       "         1.0326, -1.4041,  1.1989, -2.0988,  2.1106,  0.8652,  1.3017, -0.8480,\n",
       "         0.3176,  0.0936,  0.0074, -0.4557,  2.1732,  0.5887,  0.7436,  1.2363,\n",
       "        -0.7669,  0.6556, -0.0948,  1.2788,  0.8752, -0.9680,  0.3008,  1.1601])"
      ]
     },
     "execution_count": 18,
     "metadata": {},
     "output_type": "execute_result"
    }
   ],
   "source": [
    "bn_mean[0]"
   ]
  },
  {
   "cell_type": "code",
   "execution_count": 19,
   "metadata": {
    "tags": []
   },
   "outputs": [
    {
     "data": {
      "text/plain": [
       "tensor([-2.1184e+00,  1.9538e-01, -1.0967e+00,  1.6412e+00,  6.0336e-01,\n",
       "         1.9966e-01,  3.1363e+00, -1.0608e+00,  1.0317e+00,  2.5627e-01,\n",
       "        -1.7622e+00, -2.4068e+00, -8.9282e-01, -1.0704e-01, -1.0113e-01,\n",
       "         9.3335e-01, -1.3262e-01, -2.2472e+00, -7.7249e-01,  1.0062e+00,\n",
       "         6.5087e-01,  3.9698e-02, -1.1702e+00,  6.4467e-01,  1.7609e+00,\n",
       "         1.9461e+00,  1.1584e+00,  3.9184e-01,  9.4901e-01,  1.6757e+00,\n",
       "         3.5242e-01, -1.4314e+00, -6.6215e-02, -1.0464e-01, -1.0555e+00,\n",
       "        -8.3517e-01, -6.4479e-01,  3.7426e-01, -4.6872e-01,  8.8067e-01,\n",
       "         3.0197e-01, -3.1266e-01,  1.6541e-02, -7.1725e-02,  3.0511e-01,\n",
       "         9.5337e-01,  1.4721e+00, -1.4319e+00,  2.8278e+00,  1.3265e+00,\n",
       "         1.9153e+00, -6.8789e-01,  1.7127e+00,  8.6630e-01,  1.3341e+00,\n",
       "        -2.1325e+00, -6.6140e-01,  9.0999e-01,  1.4134e+00, -1.0025e+00,\n",
       "        -4.8362e-01,  5.1648e-01,  1.4164e+00,  3.2516e-01,  1.2502e+00,\n",
       "         1.1900e+00, -4.3184e-01,  1.1440e+00, -1.1819e+00, -2.2557e-01,\n",
       "        -1.7761e-01,  4.9705e-01,  1.0432e-01, -1.5516e+00, -2.2030e+00,\n",
       "         3.4861e-01,  8.5983e-01,  5.1574e-02,  2.9581e-01,  7.6289e-01,\n",
       "         3.0802e-01,  1.5991e+00,  5.9901e-01,  6.2589e-01,  2.8468e-01,\n",
       "        -7.3847e-01, -1.0364e+00,  3.2918e-02,  2.0329e+00, -3.1922e-01,\n",
       "        -8.1161e-01,  3.1454e-01, -1.2319e+00, -6.8385e-01, -7.4665e-01,\n",
       "         6.4480e-01, -2.2698e-01,  4.2750e-01,  1.5569e-01, -8.6946e-01,\n",
       "         3.9594e-01,  2.4898e-01, -1.0299e+00,  6.5716e-01,  2.1389e-01,\n",
       "         1.0262e+00, -4.4767e-01, -5.0568e-01,  6.3670e-01, -1.2606e-01,\n",
       "         1.4401e+00, -6.9851e-02,  4.5113e-01,  2.0275e+00,  1.7479e+00,\n",
       "         1.6327e+00,  1.0674e+00,  3.4457e-01,  1.0610e+00,  6.5991e-02,\n",
       "        -1.4290e+00, -1.2930e+00,  2.9531e-01,  2.3425e+00, -1.5481e+00,\n",
       "        -1.6006e-01, -4.3497e-01, -2.6420e-01, -1.5650e+00, -8.2545e-01,\n",
       "         2.4418e+00,  8.6381e-03,  2.9875e-01,  1.4651e+00,  7.7803e-01,\n",
       "         1.7215e+00, -5.4214e-01,  1.6287e+00,  3.4408e-01,  4.8930e-01,\n",
       "         8.2067e-01, -8.0731e-02,  1.2485e+00,  1.4088e-01,  4.7941e-01,\n",
       "         1.0103e+00,  1.6730e+00,  1.6881e-01,  6.3577e-01,  3.8700e-01,\n",
       "        -7.9467e-01,  9.9960e-01,  1.3640e+00,  2.1022e+00,  5.9065e-01,\n",
       "         1.1309e-01,  1.4942e+00, -1.5265e+00, -1.8409e-01,  9.2910e-01,\n",
       "         1.4904e+00, -6.2753e-01,  8.8602e-01, -9.9537e-01, -4.3515e-01,\n",
       "        -5.9268e-01, -1.4930e-01,  1.5969e-01, -1.6582e+00, -1.2858e+00,\n",
       "         9.5129e-01, -2.2575e+00,  3.2153e-01, -9.7261e-01, -1.4597e-01,\n",
       "         1.0962e+00,  1.0336e+00, -1.4015e+00,  1.1926e+00, -2.1012e+00,\n",
       "         2.0929e+00,  8.5907e-01,  1.3044e+00, -8.4239e-01,  3.2080e-01,\n",
       "         8.4523e-02, -1.6258e-03, -4.3884e-01,  2.1725e+00,  5.9085e-01,\n",
       "         7.5859e-01,  1.2361e+00, -7.6315e-01,  6.4884e-01, -1.0682e-01,\n",
       "         1.2840e+00,  8.7437e-01, -9.6690e-01,  2.9860e-01,  1.1643e+00])"
      ]
     },
     "execution_count": 19,
     "metadata": {},
     "output_type": "execute_result"
    }
   ],
   "source": [
    "bn_mean_running[0]"
   ]
  },
  {
   "cell_type": "code",
   "execution_count": 22,
   "metadata": {
    "tags": []
   },
   "outputs": [
    {
     "data": {
      "text/plain": [
       "True"
      ]
     },
     "execution_count": 22,
     "metadata": {},
     "output_type": "execute_result"
    }
   ],
   "source": [
    "torch.allclose(bn_mean_running[0], bn_mean[0], atol = 1e-1)"
   ]
  },
  {
   "cell_type": "code",
   "execution_count": null,
   "metadata": {
    "tags": []
   },
   "outputs": [],
   "source": []
  },
  {
   "cell_type": "code",
   "execution_count": null,
   "metadata": {
    "tags": []
   },
   "outputs": [],
   "source": [
    "emb_concat.shape"
   ]
  },
  {
   "cell_type": "code",
   "execution_count": 36,
   "metadata": {
    "tags": []
   },
   "outputs": [
    {
     "name": "stdout",
     "output_type": "stream",
     "text": [
      "yeosyah.\n",
      "malin.\n",
      "dlee.\n",
      "khalei.\n",
      "nya.\n",
      "tryckendeen.\n",
      "emberlynn.\n",
      "ise.\n",
      "abdeles.\n",
      "lon.\n",
      "torreeveri.\n",
      "pep.\n",
      "lannezika.\n",
      "shahladie.\n",
      "ena.\n",
      "luna.\n",
      "adari.\n",
      "zerianne.\n",
      "nehedanmoll.\n",
      "eisiony.\n"
     ]
    }
   ],
   "source": [
    "# sample from the model\n",
    "g = torch.Generator().manual_seed(42)\n",
    "\n",
    "for _ in range(20):\n",
    "    \n",
    "    out = []\n",
    "    context = [0] * block_size # initialize with all ...\n",
    "    while True:\n",
    "        \n",
    "        \n",
    "      emb = C[torch.tensor([context])] # (1,block_size,d)\n",
    "      emb_concat = emb.view(emb.shape[0], -1)     ## concatenate vectors (creating features to feed into the hidden layer)\n",
    "      h_pre_act = emb_concat @ W1 + b1    ## Hidden layer pre activation\n",
    "      # h_pre_act = bn_gain * (h_pre_act - bn_mean)/bn_std + bn_bias  ## Normalizing activation layer output \n",
    "      h_pre_act = bn_gain * (h_pre_act - bn_mean_running)/bn_std_running + bn_bias\n",
    "      h = torch.tanh(h_pre_act) # (32, 100)    ## Hidden layer activation\n",
    "      logits = h @ W2 + b2\n",
    "      \n",
    "      # h = torch.tanh(emb.view(1, -1) @ W1 + b1)\n",
    "      # logits = h @ W2 + b2\n",
    "      probs = F.softmax(logits, dim=1)\n",
    "      ix = torch.multinomial(probs, num_samples=1, generator=g).item()\n",
    "      context = context[1:] + [ix]\n",
    "      out.append(ix)\n",
    "      if ix == 0:\n",
    "        break\n",
    "    \n",
    "    print(''.join(itos[i] for i in out))"
   ]
  },
  {
   "cell_type": "code",
   "execution_count": null,
   "metadata": {},
   "outputs": [],
   "source": []
  }
 ],
 "metadata": {
  "kernelspec": {
   "display_name": "py3_10",
   "language": "python",
   "name": "py3_10"
  },
  "language_info": {
   "codemirror_mode": {
    "name": "ipython",
    "version": 3
   },
   "file_extension": ".py",
   "mimetype": "text/x-python",
   "name": "python",
   "nbconvert_exporter": "python",
   "pygments_lexer": "ipython3",
   "version": "3.10.12"
  }
 },
 "nbformat": 4,
 "nbformat_minor": 4
}
